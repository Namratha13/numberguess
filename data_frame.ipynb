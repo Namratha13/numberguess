{
  "nbformat": 4,
  "nbformat_minor": 0,
  "metadata": {
    "colab": {
      "provenance": [],
      "authorship_tag": "ABX9TyMCJsovc1yYa9V2MIFlT/C7",
      "include_colab_link": true
    },
    "kernelspec": {
      "name": "ir",
      "display_name": "R"
    },
    "language_info": {
      "name": "R"
    }
  },
  "cells": [
    {
      "cell_type": "markdown",
      "metadata": {
        "id": "view-in-github",
        "colab_type": "text"
      },
      "source": [
        "<a href=\"https://colab.research.google.com/github/Namratha13/numberguess/blob/main/data_frame.ipynb\" target=\"_parent\"><img src=\"https://colab.research.google.com/assets/colab-badge.svg\" alt=\"Open In Colab\"/></a>"
      ]
    },
    {
      "cell_type": "code",
      "source": [
        "a=data.frame(\n",
        "  text=c(\"string\",\"other\",\"many\"),\n",
        "  pulse=c(10,20,30),\n",
        "  training=c(23,45,56)\n",
        ")\n",
        "print(a)"
      ],
      "metadata": {
        "colab": {
          "base_uri": "https://localhost:8080/"
        },
        "id": "UHJivpFPBsom",
        "outputId": "a160f4f3-ca27-4357-9e97-ca4c9212d877"
      },
      "execution_count": null,
      "outputs": [
        {
          "output_type": "stream",
          "name": "stdout",
          "text": [
            "    text pulse training\n",
            "1 string    10       23\n",
            "2  other    20       45\n",
            "3   many    30       56\n"
          ]
        }
      ]
    },
    {
      "cell_type": "code",
      "source": [
        "v1=c(1,2,3)\n",
        "v2=c(\"R\",\"Castle\",\"Java\")\n",
        "v3=c(\"pro\",\"type\",\"scaleup\")\n",
        "df=data.frame(v1,v2,v3)\n",
        "print(df)\n",
        "print(df[1:2, ])\n",
        "print(df[ ,2:2])"
      ],
      "metadata": {
        "colab": {
          "base_uri": "https://localhost:8080/"
        },
        "id": "fgkmpw56CSg2",
        "outputId": "b9840072-1019-46a9-f6e0-c4986fbf70b7"
      },
      "execution_count": null,
      "outputs": [
        {
          "output_type": "stream",
          "name": "stdout",
          "text": [
            "  v1     v2      v3\n",
            "1  1      R     pro\n",
            "2  2 Castle    type\n",
            "3  3   Java scaleup\n",
            "  v1     v2   v3\n",
            "1  1      R  pro\n",
            "2  2 Castle type\n",
            "[1] \"R\"      \"Castle\" \"Java\"  \n"
          ]
        }
      ]
    },
    {
      "cell_type": "code",
      "source": [
        "patient=data.frame(\n",
        "  \"name\"=c(\"senthil\",\"sam\"),\n",
        "  \"month\"=c(\"jan\",\"dec\"),\n",
        "  \"BS\"=c(141.2,139.3),\n",
        "  \"BP\"=c(90,78))\n",
        "  patient2=subset(patient,name==\"senthil\" | BS>150)\n",
        "  print(\"new subset patient2\")\n",
        "  print(patient2)\n"
      ],
      "metadata": {
        "colab": {
          "base_uri": "https://localhost:8080/"
        },
        "id": "SAEnD9zDEN2I",
        "outputId": "8615d97b-9659-43ca-9143-534ac395afd4"
      },
      "execution_count": null,
      "outputs": [
        {
          "output_type": "stream",
          "name": "stdout",
          "text": [
            "[1] \"new subset patient2\"\n",
            "     name month    BS BP\n",
            "1 senthil   jan 141.2 90\n"
          ]
        }
      ]
    },
    {
      "cell_type": "code",
      "source": [
        "p=list(a=1,b=c(2,3,4),c=\"hello\")\n",
        "p[[1]]\n",
        "p$b\n",
        "p[[\"c\"]]\n",
        "p[c(2,3)]\n",
        "p[[1]]=100\n",
        "print(p)\n",
        "p$b=c(12,13,14)\n",
        "print(p)\n",
        "p$d=\"new element\"\n",
        "print(p)"
      ],
      "metadata": {
        "colab": {
          "base_uri": "https://localhost:8080/",
          "height": 687
        },
        "id": "IGkN2YfGG5Zf",
        "outputId": "8ce8c7d6-c402-4c04-ba40-0dae2d1c0455"
      },
      "execution_count": null,
      "outputs": [
        {
          "output_type": "display_data",
          "data": {
            "text/html": [
              "1"
            ],
            "text/markdown": "1",
            "text/latex": "1",
            "text/plain": [
              "[1] 1"
            ]
          },
          "metadata": {}
        },
        {
          "output_type": "display_data",
          "data": {
            "text/html": [
              "<style>\n",
              ".list-inline {list-style: none; margin:0; padding: 0}\n",
              ".list-inline>li {display: inline-block}\n",
              ".list-inline>li:not(:last-child)::after {content: \"\\00b7\"; padding: 0 .5ex}\n",
              "</style>\n",
              "<ol class=list-inline><li>2</li><li>3</li><li>4</li></ol>\n"
            ],
            "text/markdown": "1. 2\n2. 3\n3. 4\n\n\n",
            "text/latex": "\\begin{enumerate*}\n\\item 2\n\\item 3\n\\item 4\n\\end{enumerate*}\n",
            "text/plain": [
              "[1] 2 3 4"
            ]
          },
          "metadata": {}
        },
        {
          "output_type": "display_data",
          "data": {
            "text/html": [
              "'hello'"
            ],
            "text/markdown": "'hello'",
            "text/latex": "'hello'",
            "text/plain": [
              "[1] \"hello\""
            ]
          },
          "metadata": {}
        },
        {
          "output_type": "display_data",
          "data": {
            "text/html": [
              "<dl>\n",
              "\t<dt>$b</dt>\n",
              "\t\t<dd><style>\n",
              ".list-inline {list-style: none; margin:0; padding: 0}\n",
              ".list-inline>li {display: inline-block}\n",
              ".list-inline>li:not(:last-child)::after {content: \"\\00b7\"; padding: 0 .5ex}\n",
              "</style>\n",
              "<ol class=list-inline><li>2</li><li>3</li><li>4</li></ol>\n",
              "</dd>\n",
              "\t<dt>$c</dt>\n",
              "\t\t<dd>'hello'</dd>\n",
              "</dl>\n"
            ],
            "text/markdown": "$b\n:   1. 2\n2. 3\n3. 4\n\n\n\n$c\n:   'hello'\n\n\n",
            "text/latex": "\\begin{description}\n\\item[\\$b] \\begin{enumerate*}\n\\item 2\n\\item 3\n\\item 4\n\\end{enumerate*}\n\n\\item[\\$c] 'hello'\n\\end{description}\n",
            "text/plain": [
              "$b\n",
              "[1] 2 3 4\n",
              "\n",
              "$c\n",
              "[1] \"hello\"\n"
            ]
          },
          "metadata": {}
        },
        {
          "output_type": "stream",
          "name": "stdout",
          "text": [
            "$a\n",
            "[1] 100\n",
            "\n",
            "$b\n",
            "[1] 2 3 4\n",
            "\n",
            "$c\n",
            "[1] \"hello\"\n",
            "\n",
            "$a\n",
            "[1] 100\n",
            "\n",
            "$b\n",
            "[1] 12 13 14\n",
            "\n",
            "$c\n",
            "[1] \"hello\"\n",
            "\n",
            "$a\n",
            "[1] 100\n",
            "\n",
            "$b\n",
            "[1] 12 13 14\n",
            "\n",
            "$c\n",
            "[1] \"hello\"\n",
            "\n",
            "$d\n",
            "[1] \"new element\"\n",
            "\n"
          ]
        }
      ]
    },
    {
      "cell_type": "code",
      "source": [
        "mat=matrix(1:9,nrow=3,ncol=3)\n",
        "print(mat)\n",
        "mat1=matrix(1:9,nrow=3,byrow=TRUE)\n",
        "print(mat1)\n",
        "mat1[2,3]\n",
        "mat1[2,3]=30\n",
        "mat1[1,]=c(10,20,30)\n",
        "mat1[,2]=c(50,60,70)\n",
        "mat1"
      ],
      "metadata": {
        "colab": {
          "base_uri": "https://localhost:8080/",
          "height": 302
        },
        "id": "iyEcCCaKJ7HX",
        "outputId": "5279e432-17d7-49c5-bbcd-154775ed656f"
      },
      "execution_count": null,
      "outputs": [
        {
          "output_type": "stream",
          "name": "stdout",
          "text": [
            "     [,1] [,2] [,3]\n",
            "[1,]    1    4    7\n",
            "[2,]    2    5    8\n",
            "[3,]    3    6    9\n",
            "     [,1] [,2] [,3]\n",
            "[1,]    1    2    3\n",
            "[2,]    4    5    6\n",
            "[3,]    7    8    9\n"
          ]
        },
        {
          "output_type": "display_data",
          "data": {
            "text/html": [
              "6"
            ],
            "text/markdown": "6",
            "text/latex": "6",
            "text/plain": [
              "[1] 6"
            ]
          },
          "metadata": {}
        },
        {
          "output_type": "display_data",
          "data": {
            "text/html": [
              "<table class=\"dataframe\">\n",
              "<caption>A matrix: 3 × 3 of type dbl</caption>\n",
              "<tbody>\n",
              "\t<tr><td>10</td><td>50</td><td>30</td></tr>\n",
              "\t<tr><td> 4</td><td>60</td><td>30</td></tr>\n",
              "\t<tr><td> 7</td><td>70</td><td> 9</td></tr>\n",
              "</tbody>\n",
              "</table>\n"
            ],
            "text/markdown": "\nA matrix: 3 × 3 of type dbl\n\n| 10 | 50 | 30 |\n|  4 | 60 | 30 |\n|  7 | 70 |  9 |\n\n",
            "text/latex": "A matrix: 3 × 3 of type dbl\n\\begin{tabular}{lll}\n\t 10 & 50 & 30\\\\\n\t  4 & 60 & 30\\\\\n\t  7 & 70 &  9\\\\\n\\end{tabular}\n",
            "text/plain": [
              "     [,1] [,2] [,3]\n",
              "[1,] 10   50   30  \n",
              "[2,]  4   60   30  \n",
              "[3,]  7   70    9  "
            ]
          },
          "metadata": {}
        }
      ]
    },
    {
      "cell_type": "code",
      "source": [
        "v=c(10,20,30)\n",
        "v\n",
        "v[3]\n",
        "v[c(1,3)]\n",
        "v[2]=34\n",
        "v\n",
        "v[v>30]=999\n",
        "v"
      ],
      "metadata": {
        "colab": {
          "base_uri": "https://localhost:8080/",
          "height": 104
        },
        "id": "bGy5PJBMO_8x",
        "outputId": "bfb30dd0-2616-41d1-98b7-198b6f7f5468"
      },
      "execution_count": null,
      "outputs": [
        {
          "output_type": "display_data",
          "data": {
            "text/html": [
              "<style>\n",
              ".list-inline {list-style: none; margin:0; padding: 0}\n",
              ".list-inline>li {display: inline-block}\n",
              ".list-inline>li:not(:last-child)::after {content: \"\\00b7\"; padding: 0 .5ex}\n",
              "</style>\n",
              "<ol class=list-inline><li>10</li><li>20</li><li>30</li></ol>\n"
            ],
            "text/markdown": "1. 10\n2. 20\n3. 30\n\n\n",
            "text/latex": "\\begin{enumerate*}\n\\item 10\n\\item 20\n\\item 30\n\\end{enumerate*}\n",
            "text/plain": [
              "[1] 10 20 30"
            ]
          },
          "metadata": {}
        },
        {
          "output_type": "display_data",
          "data": {
            "text/html": [
              "30"
            ],
            "text/markdown": "30",
            "text/latex": "30",
            "text/plain": [
              "[1] 30"
            ]
          },
          "metadata": {}
        },
        {
          "output_type": "display_data",
          "data": {
            "text/html": [
              "<style>\n",
              ".list-inline {list-style: none; margin:0; padding: 0}\n",
              ".list-inline>li {display: inline-block}\n",
              ".list-inline>li:not(:last-child)::after {content: \"\\00b7\"; padding: 0 .5ex}\n",
              "</style>\n",
              "<ol class=list-inline><li>10</li><li>30</li></ol>\n"
            ],
            "text/markdown": "1. 10\n2. 30\n\n\n",
            "text/latex": "\\begin{enumerate*}\n\\item 10\n\\item 30\n\\end{enumerate*}\n",
            "text/plain": [
              "[1] 10 30"
            ]
          },
          "metadata": {}
        },
        {
          "output_type": "display_data",
          "data": {
            "text/html": [
              "<style>\n",
              ".list-inline {list-style: none; margin:0; padding: 0}\n",
              ".list-inline>li {display: inline-block}\n",
              ".list-inline>li:not(:last-child)::after {content: \"\\00b7\"; padding: 0 .5ex}\n",
              "</style>\n",
              "<ol class=list-inline><li>10</li><li>34</li><li>30</li></ol>\n"
            ],
            "text/markdown": "1. 10\n2. 34\n3. 30\n\n\n",
            "text/latex": "\\begin{enumerate*}\n\\item 10\n\\item 34\n\\item 30\n\\end{enumerate*}\n",
            "text/plain": [
              "[1] 10 34 30"
            ]
          },
          "metadata": {}
        },
        {
          "output_type": "display_data",
          "data": {
            "text/html": [
              "<style>\n",
              ".list-inline {list-style: none; margin:0; padding: 0}\n",
              ".list-inline>li {display: inline-block}\n",
              ".list-inline>li:not(:last-child)::after {content: \"\\00b7\"; padding: 0 .5ex}\n",
              "</style>\n",
              "<ol class=list-inline><li>10</li><li>999</li><li>30</li></ol>\n"
            ],
            "text/markdown": "1. 10\n2. 999\n3. 30\n\n\n",
            "text/latex": "\\begin{enumerate*}\n\\item 10\n\\item 999\n\\item 30\n\\end{enumerate*}\n",
            "text/plain": [
              "[1]  10 999  30"
            ]
          },
          "metadata": {}
        }
      ]
    },
    {
      "cell_type": "code",
      "source": [
        "my_vector=data.frame(name=c(\"bob\",\"charlie\",\"robin\"), age=c(10,23,34))\n",
        "my_vector\n",
        "my_vector$age\n",
        "my_vector[2,1]\n",
        "my_vector[1,]\n",
        "my_vector[,c(\"name\",\"age\")]\n",
        "my_vector[2,1]=\"robert\"\n",
        "my_vector\n"
      ],
      "metadata": {
        "colab": {
          "base_uri": "https://localhost:8080/",
          "height": 742
        },
        "id": "NKDfdM60Pjyo",
        "outputId": "85cbf988-91a4-40e1-e162-ebe5e7c3ba29"
      },
      "execution_count": null,
      "outputs": [
        {
          "output_type": "display_data",
          "data": {
            "text/html": [
              "<table class=\"dataframe\">\n",
              "<caption>A data.frame: 3 × 2</caption>\n",
              "<thead>\n",
              "\t<tr><th scope=col>name</th><th scope=col>age</th></tr>\n",
              "\t<tr><th scope=col>&lt;chr&gt;</th><th scope=col>&lt;dbl&gt;</th></tr>\n",
              "</thead>\n",
              "<tbody>\n",
              "\t<tr><td>bob    </td><td>10</td></tr>\n",
              "\t<tr><td>charlie</td><td>23</td></tr>\n",
              "\t<tr><td>robin  </td><td>34</td></tr>\n",
              "</tbody>\n",
              "</table>\n"
            ],
            "text/markdown": "\nA data.frame: 3 × 2\n\n| name &lt;chr&gt; | age &lt;dbl&gt; |\n|---|---|\n| bob     | 10 |\n| charlie | 23 |\n| robin   | 34 |\n\n",
            "text/latex": "A data.frame: 3 × 2\n\\begin{tabular}{ll}\n name & age\\\\\n <chr> & <dbl>\\\\\n\\hline\n\t bob     & 10\\\\\n\t charlie & 23\\\\\n\t robin   & 34\\\\\n\\end{tabular}\n",
            "text/plain": [
              "  name    age\n",
              "1 bob     10 \n",
              "2 charlie 23 \n",
              "3 robin   34 "
            ]
          },
          "metadata": {}
        },
        {
          "output_type": "display_data",
          "data": {
            "text/html": [
              "<style>\n",
              ".list-inline {list-style: none; margin:0; padding: 0}\n",
              ".list-inline>li {display: inline-block}\n",
              ".list-inline>li:not(:last-child)::after {content: \"\\00b7\"; padding: 0 .5ex}\n",
              "</style>\n",
              "<ol class=list-inline><li>10</li><li>23</li><li>34</li></ol>\n"
            ],
            "text/markdown": "1. 10\n2. 23\n3. 34\n\n\n",
            "text/latex": "\\begin{enumerate*}\n\\item 10\n\\item 23\n\\item 34\n\\end{enumerate*}\n",
            "text/plain": [
              "[1] 10 23 34"
            ]
          },
          "metadata": {}
        },
        {
          "output_type": "display_data",
          "data": {
            "text/html": [
              "'charlie'"
            ],
            "text/markdown": "'charlie'",
            "text/latex": "'charlie'",
            "text/plain": [
              "[1] \"charlie\""
            ]
          },
          "metadata": {}
        },
        {
          "output_type": "display_data",
          "data": {
            "text/html": [
              "<table class=\"dataframe\">\n",
              "<caption>A data.frame: 1 × 2</caption>\n",
              "<thead>\n",
              "\t<tr><th></th><th scope=col>name</th><th scope=col>age</th></tr>\n",
              "\t<tr><th></th><th scope=col>&lt;chr&gt;</th><th scope=col>&lt;dbl&gt;</th></tr>\n",
              "</thead>\n",
              "<tbody>\n",
              "\t<tr><th scope=row>1</th><td>bob</td><td>10</td></tr>\n",
              "</tbody>\n",
              "</table>\n"
            ],
            "text/markdown": "\nA data.frame: 1 × 2\n\n| <!--/--> | name &lt;chr&gt; | age &lt;dbl&gt; |\n|---|---|---|\n| 1 | bob | 10 |\n\n",
            "text/latex": "A data.frame: 1 × 2\n\\begin{tabular}{r|ll}\n  & name & age\\\\\n  & <chr> & <dbl>\\\\\n\\hline\n\t1 & bob & 10\\\\\n\\end{tabular}\n",
            "text/plain": [
              "  name age\n",
              "1 bob  10 "
            ]
          },
          "metadata": {}
        },
        {
          "output_type": "display_data",
          "data": {
            "text/html": [
              "<table class=\"dataframe\">\n",
              "<caption>A data.frame: 3 × 2</caption>\n",
              "<thead>\n",
              "\t<tr><th scope=col>name</th><th scope=col>age</th></tr>\n",
              "\t<tr><th scope=col>&lt;chr&gt;</th><th scope=col>&lt;dbl&gt;</th></tr>\n",
              "</thead>\n",
              "<tbody>\n",
              "\t<tr><td>bob    </td><td>10</td></tr>\n",
              "\t<tr><td>charlie</td><td>23</td></tr>\n",
              "\t<tr><td>robin  </td><td>34</td></tr>\n",
              "</tbody>\n",
              "</table>\n"
            ],
            "text/markdown": "\nA data.frame: 3 × 2\n\n| name &lt;chr&gt; | age &lt;dbl&gt; |\n|---|---|\n| bob     | 10 |\n| charlie | 23 |\n| robin   | 34 |\n\n",
            "text/latex": "A data.frame: 3 × 2\n\\begin{tabular}{ll}\n name & age\\\\\n <chr> & <dbl>\\\\\n\\hline\n\t bob     & 10\\\\\n\t charlie & 23\\\\\n\t robin   & 34\\\\\n\\end{tabular}\n",
            "text/plain": [
              "  name    age\n",
              "1 bob     10 \n",
              "2 charlie 23 \n",
              "3 robin   34 "
            ]
          },
          "metadata": {}
        },
        {
          "output_type": "display_data",
          "data": {
            "text/html": [
              "<table class=\"dataframe\">\n",
              "<caption>A data.frame: 3 × 2</caption>\n",
              "<thead>\n",
              "\t<tr><th scope=col>name</th><th scope=col>age</th></tr>\n",
              "\t<tr><th scope=col>&lt;chr&gt;</th><th scope=col>&lt;dbl&gt;</th></tr>\n",
              "</thead>\n",
              "<tbody>\n",
              "\t<tr><td>bob   </td><td>10</td></tr>\n",
              "\t<tr><td>robert</td><td>23</td></tr>\n",
              "\t<tr><td>robin </td><td>34</td></tr>\n",
              "</tbody>\n",
              "</table>\n"
            ],
            "text/markdown": "\nA data.frame: 3 × 2\n\n| name &lt;chr&gt; | age &lt;dbl&gt; |\n|---|---|\n| bob    | 10 |\n| robert | 23 |\n| robin  | 34 |\n\n",
            "text/latex": "A data.frame: 3 × 2\n\\begin{tabular}{ll}\n name & age\\\\\n <chr> & <dbl>\\\\\n\\hline\n\t bob    & 10\\\\\n\t robert & 23\\\\\n\t robin  & 34\\\\\n\\end{tabular}\n",
            "text/plain": [
              "  name   age\n",
              "1 bob    10 \n",
              "2 robert 23 \n",
              "3 robin  34 "
            ]
          },
          "metadata": {}
        }
      ]
    },
    {
      "cell_type": "code",
      "source": [
        "a=c(1,2,3)\n",
        "b=c(56,34,23)\n",
        "c=rbind(a,b)\n",
        "d=cbind(a,b)\n",
        "d\n",
        "c"
      ],
      "metadata": {
        "colab": {
          "base_uri": "https://localhost:8080/",
          "height": 310
        },
        "id": "RvBeA4z2SgtY",
        "outputId": "5071bb1f-4558-4a23-acbd-3e92391512a6"
      },
      "execution_count": null,
      "outputs": [
        {
          "output_type": "display_data",
          "data": {
            "text/html": [
              "<table class=\"dataframe\">\n",
              "<caption>A matrix: 3 × 2 of type dbl</caption>\n",
              "<thead>\n",
              "\t<tr><th scope=col>a</th><th scope=col>b</th></tr>\n",
              "</thead>\n",
              "<tbody>\n",
              "\t<tr><td>1</td><td>56</td></tr>\n",
              "\t<tr><td>2</td><td>34</td></tr>\n",
              "\t<tr><td>3</td><td>23</td></tr>\n",
              "</tbody>\n",
              "</table>\n"
            ],
            "text/markdown": "\nA matrix: 3 × 2 of type dbl\n\n| a | b |\n|---|---|\n| 1 | 56 |\n| 2 | 34 |\n| 3 | 23 |\n\n",
            "text/latex": "A matrix: 3 × 2 of type dbl\n\\begin{tabular}{ll}\n a & b\\\\\n\\hline\n\t 1 & 56\\\\\n\t 2 & 34\\\\\n\t 3 & 23\\\\\n\\end{tabular}\n",
            "text/plain": [
              "     a b \n",
              "[1,] 1 56\n",
              "[2,] 2 34\n",
              "[3,] 3 23"
            ]
          },
          "metadata": {}
        },
        {
          "output_type": "display_data",
          "data": {
            "text/html": [
              "<table class=\"dataframe\">\n",
              "<caption>A matrix: 2 × 3 of type dbl</caption>\n",
              "<tbody>\n",
              "\t<tr><th scope=row>a</th><td> 1</td><td> 2</td><td> 3</td></tr>\n",
              "\t<tr><th scope=row>b</th><td>56</td><td>34</td><td>23</td></tr>\n",
              "</tbody>\n",
              "</table>\n"
            ],
            "text/markdown": "\nA matrix: 2 × 3 of type dbl\n\n| a |  1 |  2 |  3 |\n| b | 56 | 34 | 23 |\n\n",
            "text/latex": "A matrix: 2 × 3 of type dbl\n\\begin{tabular}{r|lll}\n\ta &  1 &  2 &  3\\\\\n\tb & 56 & 34 & 23\\\\\n\\end{tabular}\n",
            "text/plain": [
              "  [,1] [,2] [,3]\n",
              "a  1    2    3  \n",
              "b 56   34   23  "
            ]
          },
          "metadata": {}
        }
      ]
    }
  ]
}